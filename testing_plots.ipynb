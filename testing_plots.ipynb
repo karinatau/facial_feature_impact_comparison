{
 "cells": [
  {
   "cell_type": "code",
   "execution_count": 23,
   "metadata": {
    "pycharm": {
     "name": "#%%\n"
    }
   },
   "outputs": [],
   "source": [
    "import matplotlib.pyplot as plt\n",
    "import pandas as pd\n",
    "# PATH_RESULTS = \"/home/context/new_tests/results_train.csv\"\n",
    "# PATH_RESULTS = \"/home/context/new_tests/results_test3_new.csv\"\n",
    "# PATH_RESULTS = \"/home/context/new_tests_1/results_train.csv\"\n",
    "PATH_RESULTS = \"/home/context/new_tests_1/results_test3_new.csv\""
   ]
  },
  {
   "cell_type": "code",
   "execution_count": 24,
   "metadata": {},
   "outputs": [
    {
     "data": {
      "text/plain": "                                                    path  actual class  \\\n0      /home/ssd_storage/datasets/processed/context_v...           108   \n1      /home/ssd_storage/datasets/processed/context_v...           231   \n2      /home/ssd_storage/datasets/processed/context_v...           110   \n3      /home/ssd_storage/datasets/processed/context_v...           180   \n4      /home/ssd_storage/datasets/processed/context_v...           658   \n...                                                  ...           ...   \n36353  /home/ssd_storage/datasets/processed/context_v...            49   \n36354  /home/ssd_storage/datasets/processed/context_v...           103   \n36355  /home/ssd_storage/datasets/processed/context_v...           502   \n36356  /home/ssd_storage/datasets/processed/context_v...           975   \n36357  /home/ssd_storage/datasets/processed/context_v...           999   \n\n       predicted class   entropy  predicted class score  errors based contest  \n0                  582  0.383575              17.963146                     1  \n1                  931  0.001759              30.829706                     1  \n2                  876  3.147187              10.885627                     0  \n3                  251  1.410497              15.009926                     0  \n4                   10  1.289984              15.866810                     0  \n...                ...       ...                    ...                   ...  \n36353              399  0.776870              21.439426                     1  \n36354              663  0.000478              29.773190                     1  \n36355              292  0.025736              29.480782                     1  \n36356             1045  0.085466              25.763060                     1  \n36357              719  0.269708              19.750683                     1  \n\n[36358 rows x 6 columns]",
      "text/html": "<div>\n<style scoped>\n    .dataframe tbody tr th:only-of-type {\n        vertical-align: middle;\n    }\n\n    .dataframe tbody tr th {\n        vertical-align: top;\n    }\n\n    .dataframe thead th {\n        text-align: right;\n    }\n</style>\n<table border=\"1\" class=\"dataframe\">\n  <thead>\n    <tr style=\"text-align: right;\">\n      <th></th>\n      <th>path</th>\n      <th>actual class</th>\n      <th>predicted class</th>\n      <th>entropy</th>\n      <th>predicted class score</th>\n      <th>errors based contest</th>\n    </tr>\n  </thead>\n  <tbody>\n    <tr>\n      <th>0</th>\n      <td>/home/ssd_storage/datasets/processed/context_v...</td>\n      <td>108</td>\n      <td>582</td>\n      <td>0.383575</td>\n      <td>17.963146</td>\n      <td>1</td>\n    </tr>\n    <tr>\n      <th>1</th>\n      <td>/home/ssd_storage/datasets/processed/context_v...</td>\n      <td>231</td>\n      <td>931</td>\n      <td>0.001759</td>\n      <td>30.829706</td>\n      <td>1</td>\n    </tr>\n    <tr>\n      <th>2</th>\n      <td>/home/ssd_storage/datasets/processed/context_v...</td>\n      <td>110</td>\n      <td>876</td>\n      <td>3.147187</td>\n      <td>10.885627</td>\n      <td>0</td>\n    </tr>\n    <tr>\n      <th>3</th>\n      <td>/home/ssd_storage/datasets/processed/context_v...</td>\n      <td>180</td>\n      <td>251</td>\n      <td>1.410497</td>\n      <td>15.009926</td>\n      <td>0</td>\n    </tr>\n    <tr>\n      <th>4</th>\n      <td>/home/ssd_storage/datasets/processed/context_v...</td>\n      <td>658</td>\n      <td>10</td>\n      <td>1.289984</td>\n      <td>15.866810</td>\n      <td>0</td>\n    </tr>\n    <tr>\n      <th>...</th>\n      <td>...</td>\n      <td>...</td>\n      <td>...</td>\n      <td>...</td>\n      <td>...</td>\n      <td>...</td>\n    </tr>\n    <tr>\n      <th>36353</th>\n      <td>/home/ssd_storage/datasets/processed/context_v...</td>\n      <td>49</td>\n      <td>399</td>\n      <td>0.776870</td>\n      <td>21.439426</td>\n      <td>1</td>\n    </tr>\n    <tr>\n      <th>36354</th>\n      <td>/home/ssd_storage/datasets/processed/context_v...</td>\n      <td>103</td>\n      <td>663</td>\n      <td>0.000478</td>\n      <td>29.773190</td>\n      <td>1</td>\n    </tr>\n    <tr>\n      <th>36355</th>\n      <td>/home/ssd_storage/datasets/processed/context_v...</td>\n      <td>502</td>\n      <td>292</td>\n      <td>0.025736</td>\n      <td>29.480782</td>\n      <td>1</td>\n    </tr>\n    <tr>\n      <th>36356</th>\n      <td>/home/ssd_storage/datasets/processed/context_v...</td>\n      <td>975</td>\n      <td>1045</td>\n      <td>0.085466</td>\n      <td>25.763060</td>\n      <td>1</td>\n    </tr>\n    <tr>\n      <th>36357</th>\n      <td>/home/ssd_storage/datasets/processed/context_v...</td>\n      <td>999</td>\n      <td>719</td>\n      <td>0.269708</td>\n      <td>19.750683</td>\n      <td>1</td>\n    </tr>\n  </tbody>\n</table>\n<p>36358 rows × 6 columns</p>\n</div>"
     },
     "execution_count": 24,
     "metadata": {},
     "output_type": "execute_result"
    }
   ],
   "source": [
    "df = pd.read_csv(PATH_RESULTS)\n",
    "df"
   ]
  },
  {
   "cell_type": "code",
   "execution_count": 25,
   "outputs": [
    {
     "data": {
      "text/plain": "<Figure size 432x288 with 1 Axes>",
      "image/png": "[encoded data removed]"
     },
     "metadata": {
      "needs_background": "light"
     },
     "output_type": "display_data"
    }
   ],
   "source": [
    "plt.hist(df[\"entropy\"], bins = 50)\n",
    "plt.xlabel(\"Entropy\") \n",
    "# plt.show()\n",
    "plt.savefig(PATH_RESULTS[:-4]+'_entropy.png')"
   ],
   "metadata": {
    "collapsed": false,
    "pycharm": {
     "name": "#%%\n"
    }
   }
  },
  {
   "cell_type": "code",
   "execution_count": null,
   "outputs": [],
   "source": [],
   "metadata": {
    "collapsed": false,
    "pycharm": {
     "name": "#%%\n"
    }
   }
  }
 ],
 "metadata": {
  "interpreter": {
   "hash": "6526a419eb91e2adc0ec5581c5e8865307f0c0737901d5ba6bfcae02c4cc2884"
  },
  "kernelspec": {
   "display_name": "Python 3.8.5 ('facial_feature_impact_comparison')",
   "language": "python",
   "name": "python3"
  },
  "language_info": {
   "codemirror_mode": {
    "name": "ipython",
    "version": 3
   },
   "file_extension": ".py",
   "mimetype": "text/x-python",
   "name": "python",
   "nbconvert_exporter": "python",
   "pygments_lexer": "ipython3",
   "version": "3.8.5"
  },
  "orig_nbformat": 4
 },
 "nbformat": 4,
 "nbformat_minor": 2
}