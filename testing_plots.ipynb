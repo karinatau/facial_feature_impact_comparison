{
 "cells": [
  {
   "cell_type": "code",
   "execution_count": 14,
   "metadata": {},
   "outputs": [],
   "source": [
    "import matplotlib.pyplot as plt\n",
    "import pandas as pd\n",
    "PATH_RESULTS = \"/home/context/results.csv\""
   ]
  },
  {
   "cell_type": "code",
   "execution_count": 15,
   "metadata": {},
   "outputs": [
    {
     "data": {
      "text/html": [
       "<div>\n",
       "<style scoped>\n",
       "    .dataframe tbody tr th:only-of-type {\n",
       "        vertical-align: middle;\n",
       "    }\n",
       "\n",
       "    .dataframe tbody tr th {\n",
       "        vertical-align: top;\n",
       "    }\n",
       "\n",
       "    .dataframe thead th {\n",
       "        text-align: right;\n",
       "    }\n",
       "</style>\n",
       "<table border=\"1\" class=\"dataframe\">\n",
       "  <thead>\n",
       "    <tr style=\"text-align: right;\">\n",
       "      <th></th>\n",
       "      <th>actual class</th>\n",
       "      <th>predicted class</th>\n",
       "      <th>entropy</th>\n",
       "    </tr>\n",
       "  </thead>\n",
       "  <tbody>\n",
       "    <tr>\n",
       "      <th>0</th>\n",
       "      <td>691</td>\n",
       "      <td>128</td>\n",
       "      <td>6.011056</td>\n",
       "    </tr>\n",
       "    <tr>\n",
       "      <th>1</th>\n",
       "      <td>26</td>\n",
       "      <td>981</td>\n",
       "      <td>5.610407</td>\n",
       "    </tr>\n",
       "    <tr>\n",
       "      <th>2</th>\n",
       "      <td>1025</td>\n",
       "      <td>266</td>\n",
       "      <td>6.214896</td>\n",
       "    </tr>\n",
       "    <tr>\n",
       "      <th>3</th>\n",
       "      <td>692</td>\n",
       "      <td>874</td>\n",
       "      <td>6.727428</td>\n",
       "    </tr>\n",
       "    <tr>\n",
       "      <th>4</th>\n",
       "      <td>57</td>\n",
       "      <td>551</td>\n",
       "      <td>6.262241</td>\n",
       "    </tr>\n",
       "    <tr>\n",
       "      <th>...</th>\n",
       "      <td>...</td>\n",
       "      <td>...</td>\n",
       "      <td>...</td>\n",
       "    </tr>\n",
       "    <tr>\n",
       "      <th>36353</th>\n",
       "      <td>990</td>\n",
       "      <td>83</td>\n",
       "      <td>6.147321</td>\n",
       "    </tr>\n",
       "    <tr>\n",
       "      <th>36354</th>\n",
       "      <td>851</td>\n",
       "      <td>168</td>\n",
       "      <td>6.510118</td>\n",
       "    </tr>\n",
       "    <tr>\n",
       "      <th>36355</th>\n",
       "      <td>257</td>\n",
       "      <td>79</td>\n",
       "      <td>5.688900</td>\n",
       "    </tr>\n",
       "    <tr>\n",
       "      <th>36356</th>\n",
       "      <td>309</td>\n",
       "      <td>198</td>\n",
       "      <td>6.357972</td>\n",
       "    </tr>\n",
       "    <tr>\n",
       "      <th>36357</th>\n",
       "      <td>477</td>\n",
       "      <td>266</td>\n",
       "      <td>6.442986</td>\n",
       "    </tr>\n",
       "  </tbody>\n",
       "</table>\n",
       "<p>36358 rows × 3 columns</p>\n",
       "</div>"
      ],
      "text/plain": [
       "       actual class  predicted class   entropy\n",
       "0               691              128  6.011056\n",
       "1                26              981  5.610407\n",
       "2              1025              266  6.214896\n",
       "3               692              874  6.727428\n",
       "4                57              551  6.262241\n",
       "...             ...              ...       ...\n",
       "36353           990               83  6.147321\n",
       "36354           851              168  6.510118\n",
       "36355           257               79  5.688900\n",
       "36356           309              198  6.357972\n",
       "36357           477              266  6.442986\n",
       "\n",
       "[36358 rows x 3 columns]"
      ]
     },
     "execution_count": 15,
     "metadata": {},
     "output_type": "execute_result"
    }
   ],
   "source": [
    "df = pd.read_csv(PATH_RESULTS)\n",
    "df"
   ]
  },
  {
   "cell_type": "code",
   "execution_count": 16,
   "metadata": {},
   "outputs": [
    {
     "data": {
      "image/png": "[encoded data removed]",
      "text/plain": [
       "<Figure size 432x288 with 1 Axes>"
      ]
     },
     "metadata": {
      "needs_background": "light"
     },
     "output_type": "display_data"
    }
   ],
   "source": [
    "plt.hist(df[\"entropy\"], bins = 50)\n",
    "plt.xlabel(\"Entropy\") \n",
    "plt.show()"
   ]
  }
 ],
 "metadata": {
  "interpreter": {
   "hash": "6526a419eb91e2adc0ec5581c5e8865307f0c0737901d5ba6bfcae02c4cc2884"
  },
  "kernelspec": {
   "display_name": "Python 3.8.5 ('facial_feature_impact_comparison')",
   "language": "python",
   "name": "python3"
  },
  "language_info": {
   "codemirror_mode": {
    "name": "ipython",
    "version": 3
   },
   "file_extension": ".py",
   "mimetype": "text/x-python",
   "name": "python",
   "nbconvert_exporter": "python",
   "pygments_lexer": "ipython3",
   "version": "3.8.5"
  },
  "orig_nbformat": 4
 },
 "nbformat": 4,
 "nbformat_minor": 2
}